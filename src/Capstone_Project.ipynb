{
  "nbformat": 4,
  "nbformat_minor": 0,
  "metadata": {
    "colab": {
      "provenance": []
    },
    "kernelspec": {
      "name": "python3",
      "display_name": "Python 3"
    },
    "language_info": {
      "name": "python"
    }
  },
  "cells": [
    {
      "cell_type": "markdown",
      "source": [
        "# DATA606 - Capstone Project\n",
        "## Proposal Title: Property price prediction\n",
        "### Author Name - Balaji Manoj Jollu\n",
        "### Prepared for UMBC Data Science Master Degree Capstone by Dr Chaojie (Jay) Wang"
      ],
      "metadata": {
        "id": "ZNOQGHV8lwBf"
      }
    },
    {
      "cell_type": "markdown",
      "source": [
        "dataset : https://www.kaggle.com/code/goyaladi/property-price-ann-predictions/input"
      ],
      "metadata": {
        "id": "saI58LCllpN3"
      }
    },
    {
      "cell_type": "code",
      "execution_count": 48,
      "metadata": {
        "id": "GGUQpbzYapKB"
      },
      "outputs": [],
      "source": [
        "import pandas as pd\n",
        "import csv\n",
        "import matplotlib.pyplot as plt\n",
        "import seaborn as sns"
      ]
    },
    {
      "cell_type": "code",
      "source": [
        "file_path = '/content/Makaan_Properties_Buy.csv'\n",
        "df = pd.read_csv(file_path, encoding='ISO-8859-1')\n",
        "df.head()"
      ],
      "metadata": {
        "colab": {
          "base_uri": "https://localhost:8080/",
          "height": 377
        },
        "id": "XFpYTPIOibG9",
        "outputId": "4d11f060-5f0d-4cc9-ad51-7e00f30fc36d"
      },
      "execution_count": 51,
      "outputs": [
        {
          "output_type": "execute_result",
          "data": {
            "text/plain": [
              "               Property_Name  Property_id Property_type     Property_status  \\\n",
              "0               Arkiton Luxe     15446514     Apartment  Under Construction   \n",
              "1  Keshav Akshar Ocean Pearl     15367414     Apartment  Under Construction   \n",
              "2            Vishwa Opulence     14683118     Apartment       Ready to move   \n",
              "3              Satyam Sarjan      5476295     Apartment       Ready to move   \n",
              "4           Navkar Sunflower     15477040     Apartment  Under Construction   \n",
              "\n",
              "  Price_per_unit_area   Posted_On  \\\n",
              "0               4,285   1 day ago   \n",
              "1               7,000  2 days ago   \n",
              "2               5,752  2 days ago   \n",
              "3               2,486  5 days ago   \n",
              "4               5,324  8 days ago   \n",
              "\n",
              "                                         Project_URL   builder_id  \\\n",
              "0  https://www.makaan.com/ahmedabad/arkiton-life-...  100563465.0   \n",
              "1  https://www.makaan.com/ahmedabad/keshav-naraya...  100009433.0   \n",
              "2  https://www.makaan.com/ahmedabad/vishwa-develo...  100207731.0   \n",
              "3  https://www.makaan.com/ahmedabad/satyam-develo...     101303.0   \n",
              "4  https://www.makaan.com/ahmedabad/navkar-buildc...    1484209.0   \n",
              "\n",
              "                  Builder_name Property_building_status  ...  is_furnished  \\\n",
              "0           Arkiton life Space                   ACTIVE  ...   Unfurnished   \n",
              "1         Keshav Narayan Group                   ACTIVE  ...   Unfurnished   \n",
              "2  Vishwa Developers Ahmedabad                   ACTIVE  ...   Unfurnished   \n",
              "3            Satyam Developers                   ACTIVE  ...   Unfurnished   \n",
              "4    Navkar Buildcon Ahmedabad                   ACTIVE  ...   Unfurnished   \n",
              "\n",
              "  listing_domain_score is_plot  is_RERA_registered is_Apartment  \\\n",
              "0                  4.0   False                True         True   \n",
              "1                  4.0   False                True         True   \n",
              "2                  4.0   False               False         True   \n",
              "3                  4.0   False               False         True   \n",
              "4                  4.0   False                True         True   \n",
              "\n",
              "   is_ready_to_move  is_commercial_Listing is_PentaHouse is_studio  \\\n",
              "0             False                  False         False     False   \n",
              "1             False                  False         False     False   \n",
              "2              True                  False         False     False   \n",
              "3              True                  False         False     False   \n",
              "4             False                  False         False     False   \n",
              "\n",
              "   Listing_Category  \n",
              "0              sell  \n",
              "1              sell  \n",
              "2              sell  \n",
              "3              sell  \n",
              "4              sell  \n",
              "\n",
              "[5 rows x 32 columns]"
            ],
            "text/html": [
              "\n",
              "  <div id=\"df-529d9226-a0ac-4c5b-90e0-5e3cc459dcf2\" class=\"colab-df-container\">\n",
              "    <div>\n",
              "<style scoped>\n",
              "    .dataframe tbody tr th:only-of-type {\n",
              "        vertical-align: middle;\n",
              "    }\n",
              "\n",
              "    .dataframe tbody tr th {\n",
              "        vertical-align: top;\n",
              "    }\n",
              "\n",
              "    .dataframe thead th {\n",
              "        text-align: right;\n",
              "    }\n",
              "</style>\n",
              "<table border=\"1\" class=\"dataframe\">\n",
              "  <thead>\n",
              "    <tr style=\"text-align: right;\">\n",
              "      <th></th>\n",
              "      <th>Property_Name</th>\n",
              "      <th>Property_id</th>\n",
              "      <th>Property_type</th>\n",
              "      <th>Property_status</th>\n",
              "      <th>Price_per_unit_area</th>\n",
              "      <th>Posted_On</th>\n",
              "      <th>Project_URL</th>\n",
              "      <th>builder_id</th>\n",
              "      <th>Builder_name</th>\n",
              "      <th>Property_building_status</th>\n",
              "      <th>...</th>\n",
              "      <th>is_furnished</th>\n",
              "      <th>listing_domain_score</th>\n",
              "      <th>is_plot</th>\n",
              "      <th>is_RERA_registered</th>\n",
              "      <th>is_Apartment</th>\n",
              "      <th>is_ready_to_move</th>\n",
              "      <th>is_commercial_Listing</th>\n",
              "      <th>is_PentaHouse</th>\n",
              "      <th>is_studio</th>\n",
              "      <th>Listing_Category</th>\n",
              "    </tr>\n",
              "  </thead>\n",
              "  <tbody>\n",
              "    <tr>\n",
              "      <th>0</th>\n",
              "      <td>Arkiton Luxe</td>\n",
              "      <td>15446514</td>\n",
              "      <td>Apartment</td>\n",
              "      <td>Under Construction</td>\n",
              "      <td>4,285</td>\n",
              "      <td>1 day ago</td>\n",
              "      <td>https://www.makaan.com/ahmedabad/arkiton-life-...</td>\n",
              "      <td>100563465.0</td>\n",
              "      <td>Arkiton life Space</td>\n",
              "      <td>ACTIVE</td>\n",
              "      <td>...</td>\n",
              "      <td>Unfurnished</td>\n",
              "      <td>4.0</td>\n",
              "      <td>False</td>\n",
              "      <td>True</td>\n",
              "      <td>True</td>\n",
              "      <td>False</td>\n",
              "      <td>False</td>\n",
              "      <td>False</td>\n",
              "      <td>False</td>\n",
              "      <td>sell</td>\n",
              "    </tr>\n",
              "    <tr>\n",
              "      <th>1</th>\n",
              "      <td>Keshav Akshar Ocean Pearl</td>\n",
              "      <td>15367414</td>\n",
              "      <td>Apartment</td>\n",
              "      <td>Under Construction</td>\n",
              "      <td>7,000</td>\n",
              "      <td>2 days ago</td>\n",
              "      <td>https://www.makaan.com/ahmedabad/keshav-naraya...</td>\n",
              "      <td>100009433.0</td>\n",
              "      <td>Keshav Narayan Group</td>\n",
              "      <td>ACTIVE</td>\n",
              "      <td>...</td>\n",
              "      <td>Unfurnished</td>\n",
              "      <td>4.0</td>\n",
              "      <td>False</td>\n",
              "      <td>True</td>\n",
              "      <td>True</td>\n",
              "      <td>False</td>\n",
              "      <td>False</td>\n",
              "      <td>False</td>\n",
              "      <td>False</td>\n",
              "      <td>sell</td>\n",
              "    </tr>\n",
              "    <tr>\n",
              "      <th>2</th>\n",
              "      <td>Vishwa Opulence</td>\n",
              "      <td>14683118</td>\n",
              "      <td>Apartment</td>\n",
              "      <td>Ready to move</td>\n",
              "      <td>5,752</td>\n",
              "      <td>2 days ago</td>\n",
              "      <td>https://www.makaan.com/ahmedabad/vishwa-develo...</td>\n",
              "      <td>100207731.0</td>\n",
              "      <td>Vishwa Developers Ahmedabad</td>\n",
              "      <td>ACTIVE</td>\n",
              "      <td>...</td>\n",
              "      <td>Unfurnished</td>\n",
              "      <td>4.0</td>\n",
              "      <td>False</td>\n",
              "      <td>False</td>\n",
              "      <td>True</td>\n",
              "      <td>True</td>\n",
              "      <td>False</td>\n",
              "      <td>False</td>\n",
              "      <td>False</td>\n",
              "      <td>sell</td>\n",
              "    </tr>\n",
              "    <tr>\n",
              "      <th>3</th>\n",
              "      <td>Satyam Sarjan</td>\n",
              "      <td>5476295</td>\n",
              "      <td>Apartment</td>\n",
              "      <td>Ready to move</td>\n",
              "      <td>2,486</td>\n",
              "      <td>5 days ago</td>\n",
              "      <td>https://www.makaan.com/ahmedabad/satyam-develo...</td>\n",
              "      <td>101303.0</td>\n",
              "      <td>Satyam Developers</td>\n",
              "      <td>ACTIVE</td>\n",
              "      <td>...</td>\n",
              "      <td>Unfurnished</td>\n",
              "      <td>4.0</td>\n",
              "      <td>False</td>\n",
              "      <td>False</td>\n",
              "      <td>True</td>\n",
              "      <td>True</td>\n",
              "      <td>False</td>\n",
              "      <td>False</td>\n",
              "      <td>False</td>\n",
              "      <td>sell</td>\n",
              "    </tr>\n",
              "    <tr>\n",
              "      <th>4</th>\n",
              "      <td>Navkar Sunflower</td>\n",
              "      <td>15477040</td>\n",
              "      <td>Apartment</td>\n",
              "      <td>Under Construction</td>\n",
              "      <td>5,324</td>\n",
              "      <td>8 days ago</td>\n",
              "      <td>https://www.makaan.com/ahmedabad/navkar-buildc...</td>\n",
              "      <td>1484209.0</td>\n",
              "      <td>Navkar Buildcon Ahmedabad</td>\n",
              "      <td>ACTIVE</td>\n",
              "      <td>...</td>\n",
              "      <td>Unfurnished</td>\n",
              "      <td>4.0</td>\n",
              "      <td>False</td>\n",
              "      <td>True</td>\n",
              "      <td>True</td>\n",
              "      <td>False</td>\n",
              "      <td>False</td>\n",
              "      <td>False</td>\n",
              "      <td>False</td>\n",
              "      <td>sell</td>\n",
              "    </tr>\n",
              "  </tbody>\n",
              "</table>\n",
              "<p>5 rows × 32 columns</p>\n",
              "</div>\n",
              "    <div class=\"colab-df-buttons\">\n",
              "\n",
              "  <div class=\"colab-df-container\">\n",
              "    <button class=\"colab-df-convert\" onclick=\"convertToInteractive('df-529d9226-a0ac-4c5b-90e0-5e3cc459dcf2')\"\n",
              "            title=\"Convert this dataframe to an interactive table.\"\n",
              "            style=\"display:none;\">\n",
              "\n",
              "  <svg xmlns=\"http://www.w3.org/2000/svg\" height=\"24px\" viewBox=\"0 -960 960 960\">\n",
              "    <path d=\"M120-120v-720h720v720H120Zm60-500h600v-160H180v160Zm220 220h160v-160H400v160Zm0 220h160v-160H400v160ZM180-400h160v-160H180v160Zm440 0h160v-160H620v160ZM180-180h160v-160H180v160Zm440 0h160v-160H620v160Z\"/>\n",
              "  </svg>\n",
              "    </button>\n",
              "\n",
              "  <style>\n",
              "    .colab-df-container {\n",
              "      display:flex;\n",
              "      gap: 12px;\n",
              "    }\n",
              "\n",
              "    .colab-df-convert {\n",
              "      background-color: #E8F0FE;\n",
              "      border: none;\n",
              "      border-radius: 50%;\n",
              "      cursor: pointer;\n",
              "      display: none;\n",
              "      fill: #1967D2;\n",
              "      height: 32px;\n",
              "      padding: 0 0 0 0;\n",
              "      width: 32px;\n",
              "    }\n",
              "\n",
              "    .colab-df-convert:hover {\n",
              "      background-color: #E2EBFA;\n",
              "      box-shadow: 0px 1px 2px rgba(60, 64, 67, 0.3), 0px 1px 3px 1px rgba(60, 64, 67, 0.15);\n",
              "      fill: #174EA6;\n",
              "    }\n",
              "\n",
              "    .colab-df-buttons div {\n",
              "      margin-bottom: 4px;\n",
              "    }\n",
              "\n",
              "    [theme=dark] .colab-df-convert {\n",
              "      background-color: #3B4455;\n",
              "      fill: #D2E3FC;\n",
              "    }\n",
              "\n",
              "    [theme=dark] .colab-df-convert:hover {\n",
              "      background-color: #434B5C;\n",
              "      box-shadow: 0px 1px 3px 1px rgba(0, 0, 0, 0.15);\n",
              "      filter: drop-shadow(0px 1px 2px rgba(0, 0, 0, 0.3));\n",
              "      fill: #FFFFFF;\n",
              "    }\n",
              "  </style>\n",
              "\n",
              "    <script>\n",
              "      const buttonEl =\n",
              "        document.querySelector('#df-529d9226-a0ac-4c5b-90e0-5e3cc459dcf2 button.colab-df-convert');\n",
              "      buttonEl.style.display =\n",
              "        google.colab.kernel.accessAllowed ? 'block' : 'none';\n",
              "\n",
              "      async function convertToInteractive(key) {\n",
              "        const element = document.querySelector('#df-529d9226-a0ac-4c5b-90e0-5e3cc459dcf2');\n",
              "        const dataTable =\n",
              "          await google.colab.kernel.invokeFunction('convertToInteractive',\n",
              "                                                    [key], {});\n",
              "        if (!dataTable) return;\n",
              "\n",
              "        const docLinkHtml = 'Like what you see? Visit the ' +\n",
              "          '<a target=\"_blank\" href=https://colab.research.google.com/notebooks/data_table.ipynb>data table notebook</a>'\n",
              "          + ' to learn more about interactive tables.';\n",
              "        element.innerHTML = '';\n",
              "        dataTable['output_type'] = 'display_data';\n",
              "        await google.colab.output.renderOutput(dataTable, element);\n",
              "        const docLink = document.createElement('div');\n",
              "        docLink.innerHTML = docLinkHtml;\n",
              "        element.appendChild(docLink);\n",
              "      }\n",
              "    </script>\n",
              "  </div>\n",
              "\n",
              "\n",
              "<div id=\"df-7286baab-66ca-4001-89a3-0fe89bb8f2fc\">\n",
              "  <button class=\"colab-df-quickchart\" onclick=\"quickchart('df-7286baab-66ca-4001-89a3-0fe89bb8f2fc')\"\n",
              "            title=\"Suggest charts.\"\n",
              "            style=\"display:none;\">\n",
              "\n",
              "<svg xmlns=\"http://www.w3.org/2000/svg\" height=\"24px\"viewBox=\"0 0 24 24\"\n",
              "     width=\"24px\">\n",
              "    <g>\n",
              "        <path d=\"M19 3H5c-1.1 0-2 .9-2 2v14c0 1.1.9 2 2 2h14c1.1 0 2-.9 2-2V5c0-1.1-.9-2-2-2zM9 17H7v-7h2v7zm4 0h-2V7h2v10zm4 0h-2v-4h2v4z\"/>\n",
              "    </g>\n",
              "</svg>\n",
              "  </button>\n",
              "\n",
              "<style>\n",
              "  .colab-df-quickchart {\n",
              "      --bg-color: #E8F0FE;\n",
              "      --fill-color: #1967D2;\n",
              "      --hover-bg-color: #E2EBFA;\n",
              "      --hover-fill-color: #174EA6;\n",
              "      --disabled-fill-color: #AAA;\n",
              "      --disabled-bg-color: #DDD;\n",
              "  }\n",
              "\n",
              "  [theme=dark] .colab-df-quickchart {\n",
              "      --bg-color: #3B4455;\n",
              "      --fill-color: #D2E3FC;\n",
              "      --hover-bg-color: #434B5C;\n",
              "      --hover-fill-color: #FFFFFF;\n",
              "      --disabled-bg-color: #3B4455;\n",
              "      --disabled-fill-color: #666;\n",
              "  }\n",
              "\n",
              "  .colab-df-quickchart {\n",
              "    background-color: var(--bg-color);\n",
              "    border: none;\n",
              "    border-radius: 50%;\n",
              "    cursor: pointer;\n",
              "    display: none;\n",
              "    fill: var(--fill-color);\n",
              "    height: 32px;\n",
              "    padding: 0;\n",
              "    width: 32px;\n",
              "  }\n",
              "\n",
              "  .colab-df-quickchart:hover {\n",
              "    background-color: var(--hover-bg-color);\n",
              "    box-shadow: 0 1px 2px rgba(60, 64, 67, 0.3), 0 1px 3px 1px rgba(60, 64, 67, 0.15);\n",
              "    fill: var(--button-hover-fill-color);\n",
              "  }\n",
              "\n",
              "  .colab-df-quickchart-complete:disabled,\n",
              "  .colab-df-quickchart-complete:disabled:hover {\n",
              "    background-color: var(--disabled-bg-color);\n",
              "    fill: var(--disabled-fill-color);\n",
              "    box-shadow: none;\n",
              "  }\n",
              "\n",
              "  .colab-df-spinner {\n",
              "    border: 2px solid var(--fill-color);\n",
              "    border-color: transparent;\n",
              "    border-bottom-color: var(--fill-color);\n",
              "    animation:\n",
              "      spin 1s steps(1) infinite;\n",
              "  }\n",
              "\n",
              "  @keyframes spin {\n",
              "    0% {\n",
              "      border-color: transparent;\n",
              "      border-bottom-color: var(--fill-color);\n",
              "      border-left-color: var(--fill-color);\n",
              "    }\n",
              "    20% {\n",
              "      border-color: transparent;\n",
              "      border-left-color: var(--fill-color);\n",
              "      border-top-color: var(--fill-color);\n",
              "    }\n",
              "    30% {\n",
              "      border-color: transparent;\n",
              "      border-left-color: var(--fill-color);\n",
              "      border-top-color: var(--fill-color);\n",
              "      border-right-color: var(--fill-color);\n",
              "    }\n",
              "    40% {\n",
              "      border-color: transparent;\n",
              "      border-right-color: var(--fill-color);\n",
              "      border-top-color: var(--fill-color);\n",
              "    }\n",
              "    60% {\n",
              "      border-color: transparent;\n",
              "      border-right-color: var(--fill-color);\n",
              "    }\n",
              "    80% {\n",
              "      border-color: transparent;\n",
              "      border-right-color: var(--fill-color);\n",
              "      border-bottom-color: var(--fill-color);\n",
              "    }\n",
              "    90% {\n",
              "      border-color: transparent;\n",
              "      border-bottom-color: var(--fill-color);\n",
              "    }\n",
              "  }\n",
              "</style>\n",
              "\n",
              "  <script>\n",
              "    async function quickchart(key) {\n",
              "      const quickchartButtonEl =\n",
              "        document.querySelector('#' + key + ' button');\n",
              "      quickchartButtonEl.disabled = true;  // To prevent multiple clicks.\n",
              "      quickchartButtonEl.classList.add('colab-df-spinner');\n",
              "      try {\n",
              "        const charts = await google.colab.kernel.invokeFunction(\n",
              "            'suggestCharts', [key], {});\n",
              "      } catch (error) {\n",
              "        console.error('Error during call to suggestCharts:', error);\n",
              "      }\n",
              "      quickchartButtonEl.classList.remove('colab-df-spinner');\n",
              "      quickchartButtonEl.classList.add('colab-df-quickchart-complete');\n",
              "    }\n",
              "    (() => {\n",
              "      let quickchartButtonEl =\n",
              "        document.querySelector('#df-7286baab-66ca-4001-89a3-0fe89bb8f2fc button');\n",
              "      quickchartButtonEl.style.display =\n",
              "        google.colab.kernel.accessAllowed ? 'block' : 'none';\n",
              "    })();\n",
              "  </script>\n",
              "</div>\n",
              "    </div>\n",
              "  </div>\n"
            ]
          },
          "metadata": {},
          "execution_count": 51
        }
      ]
    },
    {
      "cell_type": "code",
      "source": [
        "df.shape"
      ],
      "metadata": {
        "colab": {
          "base_uri": "https://localhost:8080/"
        },
        "id": "erg8EtVtcaFL",
        "outputId": "a5aae25e-ab34-4c92-f1fa-41a73ab0327d"
      },
      "execution_count": 52,
      "outputs": [
        {
          "output_type": "execute_result",
          "data": {
            "text/plain": [
              "(332096, 32)"
            ]
          },
          "metadata": {},
          "execution_count": 52
        }
      ]
    },
    {
      "cell_type": "code",
      "source": [
        "missing_values = df.isnull().sum()\n",
        "print(\"Missing Values:\\n\", missing_values)\n"
      ],
      "metadata": {
        "colab": {
          "base_uri": "https://localhost:8080/"
        },
        "id": "_A6EaalC4gik",
        "outputId": "4c2607c1-c385-4164-c5f7-34b83ada7a72"
      },
      "execution_count": 53,
      "outputs": [
        {
          "output_type": "stream",
          "name": "stdout",
          "text": [
            "Missing Values:\n",
            " Property_Name               114270\n",
            "Property_id                      0\n",
            "Property_type                    0\n",
            "Property_status              60442\n",
            "Price_per_unit_area              0\n",
            "Posted_On                        0\n",
            "Project_URL                      0\n",
            "builder_id                  182118\n",
            "Builder_name                182118\n",
            "Property_building_status         0\n",
            "City_id                          0\n",
            "City_name                        0\n",
            "No_of_BHK                        0\n",
            "Locality_ID                      0\n",
            "Locality_Name                    2\n",
            "Longitude                        0\n",
            "Latitude                         0\n",
            "Price                            0\n",
            "Size                             0\n",
            "Sub_urban_ID                     0\n",
            "Sub_urban_name                   0\n",
            "description                      1\n",
            "is_furnished                     0\n",
            "listing_domain_score             0\n",
            "is_plot                          0\n",
            "is_RERA_registered               0\n",
            "is_Apartment                     0\n",
            "is_ready_to_move                 0\n",
            "is_commercial_Listing            0\n",
            "is_PentaHouse                    0\n",
            "is_studio                        0\n",
            "Listing_Category                 0\n",
            "dtype: int64\n"
          ]
        }
      ]
    },
    {
      "cell_type": "code",
      "source": [
        "print(df.isnull().sum())"
      ],
      "metadata": {
        "colab": {
          "base_uri": "https://localhost:8080/"
        },
        "id": "yTBiaX1gh0MY",
        "outputId": "e5654049-4b06-4bf0-dbdc-73f88bc32322"
      },
      "execution_count": 54,
      "outputs": [
        {
          "output_type": "stream",
          "name": "stdout",
          "text": [
            "Property_Name               114270\n",
            "Property_id                      0\n",
            "Property_type                    0\n",
            "Property_status              60442\n",
            "Price_per_unit_area              0\n",
            "Posted_On                        0\n",
            "Project_URL                      0\n",
            "builder_id                  182118\n",
            "Builder_name                182118\n",
            "Property_building_status         0\n",
            "City_id                          0\n",
            "City_name                        0\n",
            "No_of_BHK                        0\n",
            "Locality_ID                      0\n",
            "Locality_Name                    2\n",
            "Longitude                        0\n",
            "Latitude                         0\n",
            "Price                            0\n",
            "Size                             0\n",
            "Sub_urban_ID                     0\n",
            "Sub_urban_name                   0\n",
            "description                      1\n",
            "is_furnished                     0\n",
            "listing_domain_score             0\n",
            "is_plot                          0\n",
            "is_RERA_registered               0\n",
            "is_Apartment                     0\n",
            "is_ready_to_move                 0\n",
            "is_commercial_Listing            0\n",
            "is_PentaHouse                    0\n",
            "is_studio                        0\n",
            "Listing_Category                 0\n",
            "dtype: int64\n"
          ]
        }
      ]
    },
    {
      "cell_type": "code",
      "source": [
        "df.dropna(inplace=True)"
      ],
      "metadata": {
        "id": "Z0cbGNLxlcCw"
      },
      "execution_count": 55,
      "outputs": []
    },
    {
      "cell_type": "code",
      "source": [
        "print(df.isnull().sum())"
      ],
      "metadata": {
        "colab": {
          "base_uri": "https://localhost:8080/"
        },
        "id": "lH96J2qnld84",
        "outputId": "fed251ed-310e-4920-9142-436a3937b7a3"
      },
      "execution_count": 56,
      "outputs": [
        {
          "output_type": "stream",
          "name": "stdout",
          "text": [
            "Property_Name               0\n",
            "Property_id                 0\n",
            "Property_type               0\n",
            "Property_status             0\n",
            "Price_per_unit_area         0\n",
            "Posted_On                   0\n",
            "Project_URL                 0\n",
            "builder_id                  0\n",
            "Builder_name                0\n",
            "Property_building_status    0\n",
            "City_id                     0\n",
            "City_name                   0\n",
            "No_of_BHK                   0\n",
            "Locality_ID                 0\n",
            "Locality_Name               0\n",
            "Longitude                   0\n",
            "Latitude                    0\n",
            "Price                       0\n",
            "Size                        0\n",
            "Sub_urban_ID                0\n",
            "Sub_urban_name              0\n",
            "description                 0\n",
            "is_furnished                0\n",
            "listing_domain_score        0\n",
            "is_plot                     0\n",
            "is_RERA_registered          0\n",
            "is_Apartment                0\n",
            "is_ready_to_move            0\n",
            "is_commercial_Listing       0\n",
            "is_PentaHouse               0\n",
            "is_studio                   0\n",
            "Listing_Category            0\n",
            "dtype: int64\n"
          ]
        }
      ]
    },
    {
      "cell_type": "code",
      "source": [
        "df.dtypes"
      ],
      "metadata": {
        "colab": {
          "base_uri": "https://localhost:8080/"
        },
        "id": "1G3GjiERiPQO",
        "outputId": "6fc42b61-f457-46e5-db42-2277fc7734eb"
      },
      "execution_count": 57,
      "outputs": [
        {
          "output_type": "execute_result",
          "data": {
            "text/plain": [
              "Property_Name                object\n",
              "Property_id                   int64\n",
              "Property_type                object\n",
              "Property_status              object\n",
              "Price_per_unit_area          object\n",
              "Posted_On                    object\n",
              "Project_URL                  object\n",
              "builder_id                  float64\n",
              "Builder_name                 object\n",
              "Property_building_status     object\n",
              "City_id                       int64\n",
              "City_name                    object\n",
              "No_of_BHK                    object\n",
              "Locality_ID                   int64\n",
              "Locality_Name                object\n",
              "Longitude                   float64\n",
              "Latitude                    float64\n",
              "Price                        object\n",
              "Size                         object\n",
              "Sub_urban_ID                  int64\n",
              "Sub_urban_name               object\n",
              "description                  object\n",
              "is_furnished                 object\n",
              "listing_domain_score        float64\n",
              "is_plot                        bool\n",
              "is_RERA_registered             bool\n",
              "is_Apartment                   bool\n",
              "is_ready_to_move               bool\n",
              "is_commercial_Listing          bool\n",
              "is_PentaHouse                  bool\n",
              "is_studio                      bool\n",
              "Listing_Category             object\n",
              "dtype: object"
            ]
          },
          "metadata": {},
          "execution_count": 57
        }
      ]
    },
    {
      "cell_type": "code",
      "source": [
        "print(df.columns.tolist())"
      ],
      "metadata": {
        "colab": {
          "base_uri": "https://localhost:8080/"
        },
        "id": "EOl4m8U9iUUA",
        "outputId": "600b3ab5-278b-4b89-9947-cd05c5be538b"
      },
      "execution_count": 58,
      "outputs": [
        {
          "output_type": "stream",
          "name": "stdout",
          "text": [
            "['Property_Name', 'Property_id', 'Property_type', 'Property_status', 'Price_per_unit_area', 'Posted_On', 'Project_URL', 'builder_id', 'Builder_name', 'Property_building_status', 'City_id', 'City_name', 'No_of_BHK', 'Locality_ID', 'Locality_Name', 'Longitude', 'Latitude', 'Price', 'Size', 'Sub_urban_ID', 'Sub_urban_name', 'description', 'is_furnished', 'listing_domain_score', 'is_plot', 'is_RERA_registered', 'is_Apartment', 'is_ready_to_move', 'is_commercial_Listing', 'is_PentaHouse', 'is_studio', 'Listing_Category']\n"
          ]
        }
      ]
    },
    {
      "cell_type": "code",
      "source": [
        "df['is_commercial_Listing'].value_counts()"
      ],
      "metadata": {
        "colab": {
          "base_uri": "https://localhost:8080/"
        },
        "id": "gpJmbFSAv0uE",
        "outputId": "418a64de-6812-462a-a83c-cc10fb11b2ad"
      },
      "execution_count": 47,
      "outputs": [
        {
          "output_type": "execute_result",
          "data": {
            "text/plain": [
              "False    143708\n",
              "Name: is_commercial_Listing, dtype: int64"
            ]
          },
          "metadata": {},
          "execution_count": 47
        }
      ]
    },
    {
      "cell_type": "code",
      "source": [
        "df['Property_type'].value_counts().plot(kind='bar', figsize=(10, 6), rot=45, title='Property Type Counts')\n",
        "plt.xlabel('Property Type')\n",
        "plt.ylabel('Count')\n",
        "plt.show()"
      ],
      "metadata": {
        "colab": {
          "base_uri": "https://localhost:8080/",
          "height": 656
        },
        "id": "WkmZU1B6wJUD",
        "outputId": "53e8b7ab-595e-4773-a86d-30b584886e7f"
      },
      "execution_count": 59,
      "outputs": [
        {
          "output_type": "display_data",
          "data": {
            "text/plain": [
              "<Figure size 1000x600 with 1 Axes>"
            ],
            "image/png": "[encoded data removed]"
          },
          "metadata": {}
        }
      ]
    },
    {
      "cell_type": "code",
      "source": [],
      "metadata": {
        "id": "A5ONggrc5f-0"
      },
      "execution_count": null,
      "outputs": []
    }
  ]
}